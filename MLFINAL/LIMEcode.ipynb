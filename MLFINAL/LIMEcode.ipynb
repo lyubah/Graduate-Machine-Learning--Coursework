{
 "cells": [
  {
   "cell_type": "code",
   "execution_count": 28,
   "id": "a444821f-fd21-43c6-85f7-29e1cb111676",
   "metadata": {},
   "outputs": [],
   "source": [
    "###############################################\n",
    "# LIME ANALYSIS NOTEBOOK\n",
    "###############################################\n",
    "# This notebook focuses on using LIME to:\n",
    "# 1. Provide local explanations for both a simple (Logistic Regression) and a complex (XGBoost) model trained on the Abalone dataset.\n",
    "# 2. Attempt a global approximation using sensitivity methods to see if LIME can approximate global feature importance.\n",
    "# 3. Compare local LIME explanations to SHAP results (from the separate SHAP notebook) to see if both methods highlight similar features.\n",
    "# 4. Tie back to project objectives: Understanding whether LIME approximations align with the more theoretically grounded SHAP and whether complexity affects LIME's explanations differently than SHAP's.\n"
   ]
  },
  {
   "cell_type": "code",
   "execution_count": 32,
   "id": "a662289a-1889-46b2-b64a-d775f3b1ea6b",
   "metadata": {},
   "outputs": [
    {
     "name": "stdout",
     "output_type": "stream",
     "text": [
      "Collecting lime\n",
      "  Downloading lime-0.2.0.1.tar.gz (275 kB)\n",
      "\u001b[K     |████████████████████████████████| 275 kB 2.8 MB/s eta 0:00:01\n",
      "\u001b[?25hRequirement already satisfied: matplotlib in /opt/miniconda3/lib/python3.8/site-packages (from lime) (3.7.5)\n",
      "Requirement already satisfied: numpy in /opt/miniconda3/lib/python3.8/site-packages (from lime) (1.24.4)\n",
      "Requirement already satisfied: scipy in /opt/miniconda3/lib/python3.8/site-packages (from lime) (1.10.1)\n",
      "Requirement already satisfied: tqdm in /opt/miniconda3/lib/python3.8/site-packages (from lime) (4.51.0)\n",
      "Requirement already satisfied: scikit-learn>=0.18 in /opt/miniconda3/lib/python3.8/site-packages (from lime) (1.3.2)\n",
      "Collecting scikit-image>=0.12\n",
      "  Downloading scikit_image-0.21.0-cp38-cp38-macosx_10_9_x86_64.whl (12.9 MB)\n",
      "\u001b[K     |████████████████████████████████| 12.9 MB 578 kB/s eta 0:00:01    |██                              | 788 kB 9.5 MB/s eta 0:00:02     |███████████████████████         | 9.2 MB 578 kB/s eta 0:00:07\n",
      "\u001b[?25hRequirement already satisfied: fonttools>=4.22.0 in /opt/miniconda3/lib/python3.8/site-packages (from matplotlib->lime) (4.55.3)\n",
      "Requirement already satisfied: pillow>=6.2.0 in /opt/miniconda3/lib/python3.8/site-packages (from matplotlib->lime) (10.4.0)\n",
      "Requirement already satisfied: packaging>=20.0 in /opt/miniconda3/lib/python3.8/site-packages (from matplotlib->lime) (24.1)\n",
      "Requirement already satisfied: pyparsing>=2.3.1 in /opt/miniconda3/lib/python3.8/site-packages (from matplotlib->lime) (3.1.4)\n",
      "Requirement already satisfied: importlib-resources>=3.2.0; python_version < \"3.10\" in /opt/miniconda3/lib/python3.8/site-packages (from matplotlib->lime) (6.4.0)\n",
      "Requirement already satisfied: kiwisolver>=1.0.1 in /opt/miniconda3/lib/python3.8/site-packages (from matplotlib->lime) (1.4.7)\n",
      "Requirement already satisfied: python-dateutil>=2.7 in /opt/miniconda3/lib/python3.8/site-packages (from matplotlib->lime) (2.9.0.post0)\n",
      "Requirement already satisfied: cycler>=0.10 in /opt/miniconda3/lib/python3.8/site-packages (from matplotlib->lime) (0.12.1)\n",
      "Requirement already satisfied: contourpy>=1.0.1 in /opt/miniconda3/lib/python3.8/site-packages (from matplotlib->lime) (1.1.1)\n",
      "Requirement already satisfied: joblib>=1.1.1 in /opt/miniconda3/lib/python3.8/site-packages (from scikit-learn>=0.18->lime) (1.4.2)\n",
      "Requirement already satisfied: threadpoolctl>=2.0.0 in /opt/miniconda3/lib/python3.8/site-packages (from scikit-learn>=0.18->lime) (3.5.0)\n",
      "Collecting networkx>=2.8\n",
      "  Downloading networkx-3.1-py3-none-any.whl (2.1 MB)\n",
      "\u001b[K     |████████████████████████████████| 2.1 MB 30.0 MB/s eta 0:00:01\n",
      "\u001b[?25hCollecting lazy_loader>=0.2\n",
      "  Downloading lazy_loader-0.4-py3-none-any.whl (12 kB)\n",
      "Collecting imageio>=2.27\n",
      "  Downloading imageio-2.35.1-py3-none-any.whl (315 kB)\n",
      "\u001b[K     |████████████████████████████████| 315 kB 28.6 MB/s eta 0:00:01\n",
      "\u001b[?25hCollecting tifffile>=2022.8.12\n",
      "  Downloading tifffile-2023.7.10-py3-none-any.whl (220 kB)\n",
      "\u001b[K     |████████████████████████████████| 220 kB 3.1 MB/s eta 0:00:01\n",
      "\u001b[?25hCollecting PyWavelets>=1.1.1\n",
      "  Downloading PyWavelets-1.4.1-cp38-cp38-macosx_10_13_x86_64.whl (4.3 MB)\n",
      "\u001b[K     |████████████████████████████████| 4.3 MB 5.5 MB/s eta 0:00:01MB/s eta 0:00:01\n",
      "\u001b[?25hRequirement already satisfied: zipp>=3.1.0; python_version < \"3.10\" in /opt/miniconda3/lib/python3.8/site-packages (from importlib-resources>=3.2.0; python_version < \"3.10\"->matplotlib->lime) (3.20.2)\n",
      "Requirement already satisfied: six>=1.5 in /opt/miniconda3/lib/python3.8/site-packages (from python-dateutil>=2.7->matplotlib->lime) (1.15.0)\n",
      "Building wheels for collected packages: lime\n",
      "  Building wheel for lime (setup.py) ... \u001b[?25ldone\n",
      "\u001b[?25h  Created wheel for lime: filename=lime-0.2.0.1-py3-none-any.whl size=283845 sha256=dbc9be6fe59101b056f7ec5d07f60656eef0437cd007e07d5b5f87f69b790ce0\n",
      "  Stored in directory: /Users/Lerberber/Library/Caches/pip/wheels/e6/a6/20/cc1e293fcdb67ede666fed293cb895395e7ecceb4467779546\n",
      "Successfully built lime\n",
      "Installing collected packages: networkx, lazy-loader, imageio, tifffile, PyWavelets, scikit-image, lime\n",
      "Successfully installed PyWavelets-1.4.1 imageio-2.35.1 lazy-loader-0.4 lime-0.2.0.1 networkx-3.1 scikit-image-0.21.0 tifffile-2023.7.10\n"
     ]
    }
   ],
   "source": [
    "!pip install lime\n"
   ]
  },
  {
   "cell_type": "code",
   "execution_count": 35,
   "id": "9fc9ead5-1e23-4e7c-9747-333cded8e92b",
   "metadata": {},
   "outputs": [],
   "source": [
    "\n",
    "import os\n",
    "import numpy as np\n",
    "import pandas as pd\n",
    "import shap\n",
    "import xgboost as xgb\n",
    "import matplotlib.pyplot as plt\n",
    "import seaborn as sns\n",
    "from sklearn.linear_model import LinearRegression\n",
    "from sklearn.preprocessing import StandardScaler\n",
    "from sklearn.model_selection import train_test_split, learning_curve\n",
    "from sklearn.metrics import mean_squared_error, mean_absolute_error, r2_score\n",
    "from lime.lime_tabular import LimeTabularExplainer\n",
    "from scipy.stats import spearmanr\n",
    "from sklearn.metrics.pairwise import cosine_similarity\n"
   ]
  },
  {
   "cell_type": "code",
   "execution_count": 36,
   "id": "9eda201c-2cf4-42f0-bd14-59a8e16ebf35",
   "metadata": {},
   "outputs": [],
   "source": [
    "###############################################\n",
    "# PROJECT OBJECTIVE REMINDER:\n",
    "###############################################\n",
    "# We previously analyzed SHAP separately. Now, we use LIME on the same models and dataset.\n",
    "# Key points to compare:\n",
    "# - Do LIME local explanations on LR instances match what SHAP and coefficients told us?\n",
    "# - For XGBoost, do LIME explanations on certain instances highlight the same top features SHAP identified?\n",
    "# - LIME doesn't provide interaction values like SHAP, so if SHAP showed strong feature interactions, can LIME still help us reason locally?\n",
    "# - After running this notebook, we can qualitatively compare LIME results with the SHAP results to fulfill the project's aim of understanding differences and strengths/weaknesses of each XAI method.\n"
   ]
  },
  {
   "cell_type": "code",
   "execution_count": 40,
   "id": "3b13ae09-87d3-4fdb-960d-f5612f31c558",
   "metadata": {},
   "outputs": [
    {
     "name": "stdout",
     "output_type": "stream",
     "text": [
      "Dataset abalone.csv found locally.\n",
      "Dataset loaded successfully.\n",
      "Data preparation complete.\n",
      "Number of training instances: 3341\n",
      "Number of testing instances: 836\n",
      "Feature names: ['Length', 'Diameter', 'Height', 'Whole weight', 'Shucked weight', 'Viscera weight', 'Shell weight', 'Sex_I', 'Sex_M']\n"
     ]
    }
   ],
   "source": [
    "# -------------------------------\n",
    "# Step 1: Dataset Preparation\n",
    "# -------------------------------\n",
    "\n",
    "# For reproducibility\n",
    "random_state = 27\n",
    "\n",
    "# Check if the dataset exists locally, else download it\n",
    "dataset_url = \"https://archive.ics.uci.edu/ml/machine-learning-databases/abalone/abalone.data\"\n",
    "dataset_file = \"abalone.csv\"\n",
    "column_names = [\n",
    "    \"Sex\", \"Length\", \"Diameter\", \"Height\", \n",
    "    \"Whole weight\", \"Shucked weight\", \n",
    "    \"Viscera weight\", \"Shell weight\", \"Rings\"\n",
    "]\n",
    "\n",
    "if not os.path.exists(dataset_file):\n",
    "    print(\"Dataset not found locally. Downloading...\")\n",
    "    abalone_data = pd.read_csv(dataset_url, header=None, names=column_names)\n",
    "    abalone_data.to_csv(dataset_file, index=False)\n",
    "    print(f\"Dataset downloaded and saved as {dataset_file}.\")\n",
    "else:\n",
    "    print(f\"Dataset {dataset_file} found locally.\")\n",
    "\n",
    "# Load the dataset\n",
    "data = pd.read_csv(dataset_file)\n",
    "print(\"Dataset loaded successfully.\")\n",
    "\n",
    "# One-hot encode the \"Sex\" feature\n",
    "data = pd.get_dummies(data, columns=[\"Sex\"], drop_first=True)\n",
    "\n",
    "# Separate features (X) and target variable (y)\n",
    "X = data.drop(columns=[\"Rings\"])\n",
    "y = data[\"Rings\"]\n",
    "\n",
    "# Scale features for standardization\n",
    "scaler = StandardScaler()\n",
    "X_scaled = scaler.fit_transform(X)\n",
    "\n",
    "# Split data into training and testing sets\n",
    "X_train, X_test, y_train, y_test = train_test_split(\n",
    "    X_scaled, y, test_size=0.2, random_state=random_state\n",
    ")\n",
    "\n",
    "# Extract feature names for reference\n",
    "feature_names = X.columns.tolist()\n",
    "\n",
    "# Print data summary\n",
    "print(\"Data preparation complete.\")\n",
    "print(f\"Number of training instances: {len(X_train)}\")\n",
    "print(f\"Number of testing instances: {len(X_test)}\")\n",
    "print(f\"Feature names: {feature_names}\")\n"
   ]
  },
  {
   "cell_type": "code",
   "execution_count": 41,
   "id": "93a31d4a-1586-4a45-9490-954f2dee011f",
   "metadata": {},
   "outputs": [
    {
     "name": "stdout",
     "output_type": "stream",
     "text": [
      "\n",
      "Training Linear Regression...\n",
      "\n",
      "Evaluating Linear Regression...\n",
      "Linear Regression Performance:\n",
      "Train -> MSE: 4.740, MAE: 1.568, R²: 0.543\n",
      "Test  -> MSE: 5.335, MAE: 1.608, R²: 0.492\n",
      "\n",
      "Training XGBoost...\n",
      "\n",
      "Evaluating XGBoost...\n",
      "XGBoost Performance:\n",
      "Train -> MSE: 0.527, MAE: 0.530, R²: 0.949\n",
      "Test  -> MSE: 5.308, MAE: 1.620, R²: 0.494\n"
     ]
    }
   ],
   "source": [
    "# -------------------------------\n",
    "# Step 2: Model Training\n",
    "# -------------------------------\n",
    "\n",
    "# Train Linear Regression model\n",
    "print(\"\\nTraining Linear Regression...\")\n",
    "lr_model = LinearRegression()\n",
    "lr_model.fit(X_train, y_train)\n",
    "\n",
    "# Evaluate Linear Regression model\n",
    "print(\"\\nEvaluating Linear Regression...\")\n",
    "lr_train_predictions = lr_model.predict(X_train)\n",
    "lr_test_predictions = lr_model.predict(X_test)\n",
    "\n",
    "lr_train_metrics = {\n",
    "    \"Model\": \"Linear Regression (Train)\",\n",
    "    \"MSE\": mean_squared_error(y_train, lr_train_predictions),\n",
    "    \"MAE\": mean_absolute_error(y_train, lr_train_predictions),\n",
    "    \"R²\": r2_score(y_train, lr_train_predictions),\n",
    "}\n",
    "\n",
    "lr_test_metrics = {\n",
    "    \"Model\": \"Linear Regression (Test)\",\n",
    "    \"MSE\": mean_squared_error(y_test, lr_test_predictions),\n",
    "    \"MAE\": mean_absolute_error(y_test, lr_test_predictions),\n",
    "    \"R²\": r2_score(y_test, lr_test_predictions),\n",
    "}\n",
    "\n",
    "# Print Linear Regression results\n",
    "print(\"Linear Regression Performance:\")\n",
    "print(f\"Train -> MSE: {lr_train_metrics['MSE']:.3f}, MAE: {lr_train_metrics['MAE']:.3f}, R²: {lr_train_metrics['R²']:.3f}\")\n",
    "print(f\"Test  -> MSE: {lr_test_metrics['MSE']:.3f}, MAE: {lr_test_metrics['MAE']:.3f}, R²: {lr_test_metrics['R²']:.3f}\")\n",
    "\n",
    "# Train XGBoost model\n",
    "print(\"\\nTraining XGBoost...\")\n",
    "xgb_model = xgb.XGBRegressor(objective=\"reg:squarederror\", random_state=random_state)\n",
    "xgb_model.fit(X_train, y_train)\n",
    "\n",
    "# Evaluate XGBoost model\n",
    "print(\"\\nEvaluating XGBoost...\")\n",
    "xgb_train_predictions = xgb_model.predict(X_train)\n",
    "xgb_test_predictions = xgb_model.predict(X_test)\n",
    "\n",
    "xgb_train_metrics = {\n",
    "    \"Model\": \"XGBoost (Train)\",\n",
    "    \"MSE\": mean_squared_error(y_train, xgb_train_predictions),\n",
    "    \"MAE\": mean_absolute_error(y_train, xgb_train_predictions),\n",
    "    \"R²\": r2_score(y_train, xgb_train_predictions),\n",
    "}\n",
    "\n",
    "xgb_test_metrics = {\n",
    "    \"Model\": \"XGBoost (Test)\",\n",
    "    \"MSE\": mean_squared_error(y_test, xgb_test_predictions),\n",
    "    \"MAE\": mean_absolute_error(y_test, xgb_test_predictions),\n",
    "    \"R²\": r2_score(y_test, xgb_test_predictions),\n",
    "}\n",
    "\n",
    "# Print XGBoost results\n",
    "print(\"XGBoost Performance:\")\n",
    "print(f\"Train -> MSE: {xgb_train_metrics['MSE']:.3f}, MAE: {xgb_train_metrics['MAE']:.3f}, R²: {xgb_train_metrics['R²']:.3f}\")\n",
    "print(f\"Test  -> MSE: {xgb_test_metrics['MSE']:.3f}, MAE: {xgb_test_metrics['MAE']:.3f}, R²: {xgb_test_metrics['R²']:.3f}\")\n"
   ]
  },
  {
   "cell_type": "code",
   "execution_count": 57,
   "id": "1215fa34-b049-4fc6-a2d5-2fa5a4b837e9",
   "metadata": {},
   "outputs": [
    {
     "name": "stdout",
     "output_type": "stream",
     "text": [
      "\n",
      "Initializing LIME explainers...\n",
      "LIME explainers initialized.\n"
     ]
    }
   ],
   "source": [
    "# -------------------------------\n",
    "# Step 4: LIME Implementation\n",
    "# -------------------------------\n",
    "\n",
    "print(\"\\nInitializing LIME explainers...\")\n",
    "\n",
    "# Initialize LIME for Linear Regression\n",
    "lime_explainer_lr = LimeTabularExplainer(\n",
    "    training_data=X_train,\n",
    "    feature_names=feature_names,\n",
    "    mode=\"regression\",\n",
    "    discretize_continuous=True,\n",
    "    verbose=False,\n",
    "    random_state=random_state\n",
    ")\n",
    "\n",
    "# Initialize LIME for XGBoost\n",
    "lime_explainer_xgb = LimeTabularExplainer(\n",
    "    training_data=X_train,\n",
    "    feature_names=feature_names,\n",
    "    mode=\"regression\",\n",
    "    discretize_continuous=True,\n",
    "    verbose=False,\n",
    "    random_state=random_state\n",
    ")\n",
    "print(\"LIME explainers initialized.\")\n"
   ]
  },
  {
   "cell_type": "code",
   "execution_count": 58,
   "id": "4fc4fe21-3362-4cf4-ac00-c9658725c834",
   "metadata": {},
   "outputs": [
    {
     "name": "stdout",
     "output_type": "stream",
     "text": [
      "\n",
      "Explaining instance with LIME for Linear Regression...\n"
     ]
    }
   ],
   "source": [
    "# -------------------------------\n",
    "# Step 5: LIME Analysis for Linear Regression\n",
    "# -------------------------------\n",
    "\n",
    "# Select an instance to explain\n",
    "instance_idx = 0\n",
    "instance = X_test[instance_idx]\n",
    "\n",
    "print(\"\\nExplaining instance with LIME for Linear Regression...\")\n",
    "explanation_lr = lime_explainer_lr.explain_instance(\n",
    "    data_row=instance,\n",
    "    predict_fn=lr_model.predict\n",
    ")"
   ]
  },
  {
   "cell_type": "code",
   "execution_count": 59,
   "id": "54cacc67-01dc-4fae-9706-48019876e6d8",
   "metadata": {},
   "outputs": [
    {
     "name": "stdout",
     "output_type": "stream",
     "text": [
      "Explanation for Linear Regression (Top Features):\n",
      "Feature: Whole weight <= -0.77, Contribution: -7.1150\n",
      "Feature: Shucked weight <= -0.75, Contribution: 6.7392\n",
      "Feature: Shell weight <= -0.75, Contribution: -2.1413\n",
      "Feature: Diameter <= -0.58, Contribution: -2.1073\n",
      "Feature: Viscera weight <= -0.77, Contribution: 2.0964\n",
      "Feature: Height <= -0.59, Contribution: -1.7499\n",
      "Feature: Sex_I <= -0.69, Contribution: 0.6149\n",
      "Feature: Length <= -0.57, Contribution: 0.5106\n",
      "Feature: -0.76 < Sex_M <= 1.32, Contribution: -0.0753\n"
     ]
    }
   ],
   "source": [
    "# Display the explanation\n",
    "print(\"Explanation for Linear Regression (Top Features):\")\n",
    "for feature, importance in explanation_lr.as_list():\n",
    "    print(f\"Feature: {feature}, Contribution: {importance:.4f}\")\n"
   ]
  },
  {
   "cell_type": "code",
   "execution_count": 61,
   "id": "cf6525c5-4b22-4f33-ab78-a8ec28e2d777",
   "metadata": {},
   "outputs": [
    {
     "name": "stdout",
     "output_type": "stream",
     "text": [
      "\n",
      "Linear Regression Prediction: 8.1275\n",
      "Surrogate Model Prediction (LIME): 7.1783\n",
      "Fidelity Error: 0.9492\n"
     ]
    }
   ],
   "source": [
    "# Fidelity check for Linear Regression\n",
    "# Ensure instance is reshaped properly for prediction\n",
    "lr_prediction = lr_model.predict(instance.reshape(1, -1))[0]  # Ensure single prediction as scalar\n",
    "surrogate_prediction_lr = explanation_lr.local_pred[0]  # Ensure single scalar from LIME explanation\n",
    "fidelity_error_lr = abs(lr_prediction - surrogate_prediction_lr)\n",
    "\n",
    "print(f\"\\nLinear Regression Prediction: {lr_prediction:.4f}\")\n",
    "print(f\"Surrogate Model Prediction (LIME): {surrogate_prediction_lr:.4f}\")\n",
    "print(f\"Fidelity Error: {fidelity_error_lr:.4f}\")\n",
    "\n"
   ]
  },
  {
   "cell_type": "code",
   "execution_count": 62,
   "id": "85053262-2994-4eb1-bb84-da74f15deea3",
   "metadata": {},
   "outputs": [],
   "source": [
    "# -------------------------------\n",
    "# Step 6: LIME Analysis for XGBoost\n",
    "# -------------------------------\n"
   ]
  },
  {
   "cell_type": "code",
   "execution_count": 63,
   "id": "4249085a-8ed9-413f-9e69-d1236bd45d13",
   "metadata": {},
   "outputs": [
    {
     "name": "stdout",
     "output_type": "stream",
     "text": [
      "\n",
      "Explaining instance with LIME for XGBoost...\n"
     ]
    }
   ],
   "source": [
    "print(\"\\nExplaining instance with LIME for XGBoost...\")\n",
    "explanation_xgb = lime_explainer_xgb.explain_instance(\n",
    "    data_row=instance,\n",
    "    predict_fn=xgb_model.predict\n",
    ")"
   ]
  },
  {
   "cell_type": "code",
   "execution_count": 64,
   "id": "51419983-f81f-499d-98a9-4030d15fce62",
   "metadata": {},
   "outputs": [
    {
     "name": "stdout",
     "output_type": "stream",
     "text": [
      "Explanation for XGBoost (Top Features):\n",
      "Feature: Shucked weight <= -0.75, Contribution: 3.7501\n",
      "Feature: Whole weight <= -0.77, Contribution: -2.7866\n",
      "Feature: Shell weight <= -0.75, Contribution: -2.7170\n",
      "Feature: Height <= -0.59, Contribution: -0.6047\n",
      "Feature: -0.76 < Sex_M <= 1.32, Contribution: -0.4402\n",
      "Feature: Sex_I <= -0.69, Contribution: 0.3182\n",
      "Feature: Length <= -0.57, Contribution: -0.1837\n",
      "Feature: Diameter <= -0.58, Contribution: -0.1519\n",
      "Feature: Viscera weight <= -0.77, Contribution: -0.1268\n"
     ]
    }
   ],
   "source": [
    "# Display the explanation\n",
    "print(\"Explanation for XGBoost (Top Features):\")\n",
    "for feature, importance in explanation_xgb.as_list():\n",
    "    print(f\"Feature: {feature}, Contribution: {importance:.4f}\")\n"
   ]
  },
  {
   "cell_type": "code",
   "execution_count": 67,
   "id": "709f5a1e-ec3b-4faf-91ad-d04a5b9afd47",
   "metadata": {},
   "outputs": [
    {
     "name": "stdout",
     "output_type": "stream",
     "text": [
      "\n",
      "XGBoost Prediction: 8.1049\n",
      "Surrogate Model Prediction (LIME): 9.9679\n",
      "Fidelity Error: 1.8630\n"
     ]
    }
   ],
   "source": [
    "# Fidelity check for XGBoost\n",
    "# Ensure instance is reshaped properly for prediction\n",
    "xgb_prediction = xgb_model.predict(instance.reshape(1, -1))[0]  # Ensure scalar prediction\n",
    "surrogate_prediction_xgb = explanation_xgb.local_pred[0]  # Ensure single scalar from LIME explanation\n",
    "fidelity_error_xgb = abs(xgb_prediction - surrogate_prediction_xgb)\n",
    "\n",
    "print(f\"\\nXGBoost Prediction: {xgb_prediction:.4f}\")\n",
    "print(f\"Surrogate Model Prediction (LIME): {surrogate_prediction_xgb:.4f}\")\n",
    "print(f\"Fidelity Error: {fidelity_error_xgb:.4f}\")\n",
    "\n"
   ]
  },
  {
   "cell_type": "code",
   "execution_count": 68,
   "id": "cbad584f-d5c5-49c5-8636-3389217bd317",
   "metadata": {},
   "outputs": [
    {
     "name": "stdout",
     "output_type": "stream",
     "text": [
      "\n",
      "Performing stability check for LIME...\n",
      "\n",
      "Stability Check Results for Linear Regression:\n",
      "Original Explanation (Top Features):\n",
      "[('Whole weight <= -0.77', -7.115033371330232), ('Shucked weight <= -0.75', 6.739190873239141), ('Shell weight <= -0.75', -2.141330405685572), ('Diameter <= -0.58', -2.107339953675378), ('Viscera weight <= -0.77', 2.0964471995079412), ('Height <= -0.59', -1.749928018248721), ('Sex_I <= -0.69', 0.6149084022866048), ('Length <= -0.57', 0.5105940807606836), ('-0.76 < Sex_M <= 1.32', -0.07526496423961508)]\n",
      "Perturbed Explanation (Top Features):\n",
      "[('Whole weight <= -0.77', -7.102502715524071), ('Shucked weight <= -0.75', 6.831194790779906), ('Diameter <= -0.58', -2.21156579763958), ('Viscera weight <= -0.77', 2.1687334880608873), ('Shell weight <= -0.75', -2.051061908030646), ('Height <= -0.59', -1.311418670943288), ('Sex_I <= -0.69', 0.5058353448493674), ('Length <= -0.57', 0.4888674978932398), ('Sex_M > 1.32', 0.3277921051890789)]\n",
      "\n",
      "Stability Check Results for XGBoost:\n",
      "Original Explanation (Top Features):\n",
      "[('Shucked weight <= -0.75', 3.750137322500337), ('Whole weight <= -0.77', -2.786584111272469), ('Shell weight <= -0.75', -2.7170491803079466), ('Height <= -0.59', -0.6047254996899375), ('-0.76 < Sex_M <= 1.32', -0.44020832798842413), ('Sex_I <= -0.69', 0.31821986161218757), ('Length <= -0.57', -0.18374423163155232), ('Diameter <= -0.58', -0.15194282009266802), ('Viscera weight <= -0.77', -0.12683565001170696)]\n",
      "Perturbed Explanation (Top Features):\n",
      "[('Shucked weight <= -0.75', 3.8103226927666958), ('Shell weight <= -0.75', -2.7977552694082752), ('Whole weight <= -0.77', -2.6000990874549523), ('Sex_M > 1.32', -1.42895437385078), ('Height <= -0.59', -0.31820011289141725), ('Sex_I <= -0.69', 0.30716141234015015), ('Diameter <= -0.58', -0.1864628764930366), ('Length <= -0.57', -0.1205600611666921), ('Viscera weight <= -0.77', 0.06897732050204239)]\n"
     ]
    }
   ],
   "source": [
    "# -------------------------------\n",
    "# Step 7: Stability Check for LIME\n",
    "# -------------------------------\n",
    "\n",
    "print(\"\\nPerforming stability check for LIME...\")\n",
    "perturbation_scale = 0.01\n",
    "perturbed_instance = instance + np.random.normal(0, perturbation_scale, instance.shape)\n",
    "\n",
    "# Recompute explanations for the perturbed instance\n",
    "perturbed_explanation_lr = lime_explainer_lr.explain_instance(\n",
    "    data_row=perturbed_instance,\n",
    "    predict_fn=lr_model.predict\n",
    ")\n",
    "perturbed_explanation_xgb = lime_explainer_xgb.explain_instance(\n",
    "    data_row=perturbed_instance,\n",
    "    predict_fn=xgb_model.predict\n",
    ")\n",
    "\n",
    "# Compare original and perturbed explanations\n",
    "print(\"\\nStability Check Results for Linear Regression:\")\n",
    "print(\"Original Explanation (Top Features):\")\n",
    "print(explanation_lr.as_list())\n",
    "print(\"Perturbed Explanation (Top Features):\")\n",
    "print(perturbed_explanation_lr.as_list())\n",
    "\n",
    "print(\"\\nStability Check Results for XGBoost:\")\n",
    "print(\"Original Explanation (Top Features):\")\n",
    "print(explanation_xgb.as_list())\n",
    "print(\"Perturbed Explanation (Top Features):\")\n",
    "print(perturbed_explanation_xgb.as_list())\n"
   ]
  },
  {
   "cell_type": "code",
   "execution_count": 69,
   "id": "97dd8904-eec3-40a1-b204-e2ed39ec8a07",
   "metadata": {},
   "outputs": [
    {
     "name": "stdout",
     "output_type": "stream",
     "text": [
      "\n",
      "Performing sparsity analysis...\n",
      "Sparsity (Number of Significant Features) for Linear Regression: 8\n",
      "Sparsity (Number of Significant Features) for XGBoost: 9\n"
     ]
    }
   ],
   "source": [
    "# -------------------------------\n",
    "# Step 8: Sparsity Analysis\n",
    "# -------------------------------\n",
    "\n",
    "print(\"\\nPerforming sparsity analysis...\")\n",
    "def compute_sparsity(explanation, threshold=0.1):\n",
    "    feature_contributions = dict(explanation.as_list())\n",
    "    significant_features = [k for k, v in feature_contributions.items() if abs(v) > threshold]\n",
    "    return len(significant_features)\n",
    "\n",
    "sparsity_lr = compute_sparsity(explanation_lr)\n",
    "sparsity_xgb = compute_sparsity(explanation_xgb)\n",
    "\n",
    "print(f\"Sparsity (Number of Significant Features) for Linear Regression: {sparsity_lr}\")\n",
    "print(f\"Sparsity (Number of Significant Features) for XGBoost: {sparsity_xgb}\")\n"
   ]
  },
  {
   "cell_type": "code",
   "execution_count": 70,
   "id": "da6daf3e-98a0-4bd2-9328-1bf1faf1076d",
   "metadata": {},
   "outputs": [
    {
     "name": "stdout",
     "output_type": "stream",
     "text": [
      "\n",
      "Aggregating explanations globally for Linear Regression...\n"
     ]
    }
   ],
   "source": [
    "# -------------------------------\n",
    "# Step 9: Global Aggregation of Local Explanations\n",
    "# -------------------------------\n",
    "\n",
    "print(\"\\nAggregating explanations globally for Linear Regression...\")\n",
    "num_instances = 10\n",
    "global_explanations_lr = [lime_explainer_lr.explain_instance(X_test[i], lr_model.predict).as_list() \n",
    "                          for i in range(num_instances)]\n",
    "global_explanations_xgb = [lime_explainer_xgb.explain_instance(X_test[i], xgb_model.predict).as_list() \n",
    "                           for i in range(num_instances)]\n"
   ]
  },
  {
   "cell_type": "code",
   "execution_count": 71,
   "id": "af726da0-26e0-460a-8ef7-270059116fa8",
   "metadata": {},
   "outputs": [],
   "source": [
    "def aggregate_feature_importance(global_explanations):\n",
    "    feature_importance = {}\n",
    "    for exp in global_explanations:\n",
    "        for feature, importance in exp:\n",
    "            feature_importance[feature] = feature_importance.get(feature, 0) + abs(importance)\n",
    "    return sorted(feature_importance.items(), key=lambda x: x[1], reverse=True)\n",
    "\n",
    "global_importance_lr = aggregate_feature_importance(global_explanations_lr)\n",
    "global_importance_xgb = aggregate_feature_importance(global_explanations_xgb)\n"
   ]
  },
  {
   "cell_type": "code",
   "execution_count": 73,
   "id": "f43da0df-88ed-4fa3-a01b-b85b796540dd",
   "metadata": {},
   "outputs": [
    {
     "name": "stdout",
     "output_type": "stream",
     "text": [
      "\n",
      "Global Feature Importance (Aggregated from Local Explanations):\n",
      "Linear Regression:\n",
      "Feature: Shucked weight <= -0.75, Aggregated Importance: 28.3747\n",
      "Feature: Whole weight <= -0.77, Aggregated Importance: 14.1948\n",
      "Feature: -0.77 < Whole weight <= -0.03, Aggregated Importance: 13.1633\n",
      "Feature: Shucked weight > 0.68, Aggregated Importance: 8.4167\n",
      "Feature: Whole weight > 0.69, Aggregated Importance: 8.1726\n",
      "Feature: Shell weight <= -0.75, Aggregated Importance: 6.6037\n",
      "Feature: Viscera weight <= -0.77, Aggregated Importance: 6.3174\n",
      "Feature: -0.75 < Shucked weight <= -0.07, Aggregated Importance: 5.4632\n",
      "Feature: Diameter <= -0.58, Aggregated Importance: 4.1885\n",
      "Feature: -0.07 < Shucked weight <= 0.68, Aggregated Importance: 4.1751\n",
      "Feature: Sex_I <= -0.69, Aggregated Importance: 4.1456\n",
      "Feature: -0.75 < Shell weight <= -0.02, Aggregated Importance: 3.2312\n",
      "Feature: -0.03 < Whole weight <= 0.69, Aggregated Importance: 3.2024\n",
      "Feature: Height <= -0.59, Aggregated Importance: 3.1858\n",
      "Feature: -0.77 < Viscera weight <= -0.06, Aggregated Importance: 3.0065\n",
      "Feature: Viscera weight > 0.69, Aggregated Importance: 2.4001\n",
      "Feature: Sex_M <= -0.76, Aggregated Importance: 1.5863\n",
      "Feature: -0.57 < Length <= 0.17, Aggregated Importance: 1.4859\n",
      "Feature: -0.59 < Height <= 0.13, Aggregated Importance: 1.4218\n",
      "Feature: Diameter > 0.78, Aggregated Importance: 1.3987\n",
      "Feature: Length > 0.76, Aggregated Importance: 1.3606\n",
      "Feature: -0.02 < Shell weight <= 0.67, Aggregated Importance: 1.3585\n",
      "Feature: -0.58 < Diameter <= 0.22, Aggregated Importance: 1.1821\n",
      "Feature: -0.06 < Viscera weight <= 0.69, Aggregated Importance: 1.0242\n",
      "Feature: -0.69 < Sex_I <= 1.45, Aggregated Importance: 1.0207\n",
      "Feature: Length <= -0.57, Aggregated Importance: 0.7934\n",
      "Feature: 0.22 < Diameter <= 0.78, Aggregated Importance: 0.6364\n",
      "Feature: -0.76 < Sex_M <= 1.32, Aggregated Importance: 0.5362\n",
      "Feature: 0.13 < Height <= 0.61, Aggregated Importance: 0.4223\n",
      "Feature: 0.17 < Length <= 0.76, Aggregated Importance: 0.0267\n",
      "\n",
      "XGBoost:\n",
      "Feature: Shucked weight <= -0.75, Aggregated Importance: 15.6203\n",
      "Feature: Shell weight <= -0.75, Aggregated Importance: 8.6331\n",
      "Feature: -0.77 < Whole weight <= -0.03, Aggregated Importance: 7.5126\n",
      "Feature: Whole weight <= -0.77, Aggregated Importance: 5.2921\n",
      "Feature: -0.07 < Shucked weight <= 0.68, Aggregated Importance: 5.1340\n",
      "Feature: Shucked weight > 0.68, Aggregated Importance: 3.6227\n",
      "Feature: Whole weight > 0.69, Aggregated Importance: 3.1831\n",
      "Feature: -0.75 < Shucked weight <= -0.07, Aggregated Importance: 2.3623\n",
      "Feature: -0.02 < Shell weight <= 0.67, Aggregated Importance: 2.2996\n",
      "Feature: -0.57 < Length <= 0.17, Aggregated Importance: 2.1772\n",
      "Feature: -0.03 < Whole weight <= 0.69, Aggregated Importance: 2.0743\n",
      "Feature: Length > 0.76, Aggregated Importance: 1.9050\n",
      "Feature: -0.75 < Shell weight <= -0.02, Aggregated Importance: 1.7846\n",
      "Feature: Sex_M <= -0.76, Aggregated Importance: 1.6004\n",
      "Feature: Sex_I <= -0.69, Aggregated Importance: 1.5154\n",
      "Feature: -0.59 < Height <= 0.13, Aggregated Importance: 1.1303\n",
      "Feature: 0.17 < Length <= 0.76, Aggregated Importance: 0.8938\n",
      "Feature: Height <= -0.59, Aggregated Importance: 0.8613\n",
      "Feature: -0.76 < Sex_M <= 1.32, Aggregated Importance: 0.8243\n",
      "Feature: -0.58 < Diameter <= 0.22, Aggregated Importance: 0.7274\n",
      "Feature: -0.69 < Sex_I <= 1.45, Aggregated Importance: 0.5719\n",
      "Feature: Length <= -0.57, Aggregated Importance: 0.5005\n",
      "Feature: Diameter <= -0.58, Aggregated Importance: 0.4421\n",
      "Feature: 0.22 < Diameter <= 0.78, Aggregated Importance: 0.4097\n",
      "Feature: 0.13 < Height <= 0.61, Aggregated Importance: 0.3922\n",
      "Feature: Viscera weight <= -0.77, Aggregated Importance: 0.3776\n",
      "Feature: Viscera weight > 0.69, Aggregated Importance: 0.3091\n",
      "Feature: -0.77 < Viscera weight <= -0.06, Aggregated Importance: 0.2374\n",
      "Feature: Diameter > 0.78, Aggregated Importance: 0.1219\n",
      "Feature: -0.06 < Viscera weight <= 0.69, Aggregated Importance: 0.0707\n"
     ]
    }
   ],
   "source": [
    "def aggregate_feature_importance(global_explanations):\n",
    "    feature_importance = {}\n",
    "    for exp in global_explanations:\n",
    "        for feature, importance in exp:\n",
    "            feature_importance[feature] = feature_importance.get(feature, 0) + abs(importance)\n",
    "    return sorted(feature_importance.items(), key=lambda x: x[1], reverse=True)\n",
    "\n",
    "global_importance_lr = aggregate_feature_importance(global_explanations_lr)\n",
    "global_importance_xgb = aggregate_feature_importance(global_explanations_xgb)\n",
    "print(\"\\nGlobal Feature Importance (Aggregated from Local Explanations):\")\n",
    "print(\"Linear Regression:\")\n",
    "for feature, importance in global_importance_lr:\n",
    "    print(f\"Feature: {feature}, Aggregated Importance: {importance:.4f}\")\n",
    "print(\"\\nXGBoost:\")\n",
    "for feature, importance in global_importance_xgb:\n",
    "    print(f\"Feature: {feature}, Aggregated Importance: {importance:.4f}\")\n",
    "\n"
   ]
  },
  {
   "cell_type": "code",
   "execution_count": 75,
   "id": "b01fac97-f8de-431b-a64e-e4b6b3628bce",
   "metadata": {},
   "outputs": [
    {
     "data": {
      "image/png": "[encoded data removed]",
      "text/plain": [
       "<Figure size 640x480 with 1 Axes>"
      ]
     },
     "metadata": {},
     "output_type": "display_data"
    },
    {
     "data": {
      "image/png": "[encoded data removed]",
      "text/plain": [
       "<Figure size 1200x600 with 1 Axes>"
      ]
     },
     "metadata": {},
     "output_type": "display_data"
    },
    {
     "name": "stdout",
     "output_type": "stream",
     "text": [
      "\n",
      "LIME analysis complete. Share the following outputs for further discussion:\n",
      "- Fidelity errors for Linear Regression and XGBoost\n",
      "- Stability comparison of original and perturbed explanations\n",
      "- Sparsity (number of significant features)\n",
      "- Global feature importance for both models\n"
     ]
    }
   ],
   "source": [
    "# -------------------------------\n",
    "# Step 10: Visualize Results\n",
    "# -------------------------------\n",
    "\n",
    "# Sparsity Visualization\n",
    "plt.bar([\"Linear Regression\", \"XGBoost\"], [sparsity_lr, sparsity_xgb])\n",
    "plt.title(\"Sparsity of Explanations (LIME)\")\n",
    "plt.ylabel(\"Number of Significant Features\")\n",
    "plt.show()\n",
    "\n",
    "# Global Feature Importance Comparison\n",
    "global_importance_df = pd.DataFrame({\n",
    "    \"Feature\": [x[0] for x in global_importance_lr],\n",
    "    \"Linear Regression\": [x[1] for x in global_importance_lr],\n",
    "    \"XGBoost\": [global_importance_xgb[i][1] if i < len(global_importance_xgb) else 0 \n",
    "                for i in range(len(global_importance_lr))]\n",
    "})\n",
    "\n",
    "global_importance_df.set_index(\"Feature\").plot(kind=\"bar\", figsize=(12, 6))\n",
    "plt.title(\"Global Feature Importance Comparison: LIME\")\n",
    "plt.ylabel(\"Aggregated Importance\")\n",
    "plt.xlabel(\"Feature\")\n",
    "plt.tight_layout()\n",
    "plt.show()\n",
    "\n",
    "print(\"\\nLIME analysis complete. Share the following outputs for further discussion:\")\n",
    "print(\"- Fidelity errors for Linear Regression and XGBoost\")\n",
    "print(\"- Stability comparison of original and perturbed explanations\")\n",
    "print(\"- Sparsity (number of significant features)\")\n",
    "print(\"- Global feature importance for both models\")"
   ]
  },
  {
   "cell_type": "code",
   "execution_count": 82,
   "id": "60ef1c47-9dce-4f4a-a6f0-843d1b500f9d",
   "metadata": {},
   "outputs": [
    {
     "name": "stdout",
     "output_type": "stream",
     "text": [
      "Stability Error for Linear Regression: 3.9853\n",
      "Stability Error for XGBoost: 0.0835\n"
     ]
    }
   ],
   "source": [
    "\n",
    "def compute_stability(original_explanation, perturbed_explanation):\n",
    "    original_values = [v for _, v in original_explanation.as_list()]\n",
    "    perturbed_values = [v for _, v in perturbed_explanation.as_list()]\n",
    "    return mean_squared_error(original_values, perturbed_values)\n",
    "\n",
    "# Example usage for Linear Regression\n",
    "stability_error_lr = compute_stability(explanation_lr, perturbed_explanation_lr)\n",
    "print(f\"Stability Error for Linear Regression: {stability_error_lr:.4f}\")\n",
    "\n",
    "# Example usage for XGBoost\n",
    "stability_error_xgb = compute_stability(explanation_xgb, perturbed_explanation_xgb)\n",
    "print(f\"Stability Error for XGBoost: {stability_error_xgb:.4f}\")\n"
   ]
  },
  {
   "cell_type": "code",
   "execution_count": null,
   "id": "bda0103d-faf7-4939-8118-8f13755f88f2",
   "metadata": {},
   "outputs": [],
   "source": []
  },
  {
   "cell_type": "code",
   "execution_count": null,
   "id": "4bd35f7e-2c85-4f53-8b3d-9f9b07de1532",
   "metadata": {},
   "outputs": [],
   "source": []
  }
 ],
 "metadata": {
  "kernelspec": {
   "display_name": "Python 3 (ipykernel)",
   "language": "python",
   "name": "python3"
  },
  "language_info": {
   "codemirror_mode": {
    "name": "ipython",
    "version": 3
   },
   "file_extension": ".py",
   "mimetype": "text/x-python",
   "name": "python",
   "nbconvert_exporter": "python",
   "pygments_lexer": "ipython3",
   "version": "3.8.19"
  }
 },
 "nbformat": 4,
 "nbformat_minor": 5
}
